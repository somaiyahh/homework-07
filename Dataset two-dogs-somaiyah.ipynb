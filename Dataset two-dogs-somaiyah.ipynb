{
 "cells": [
  {
   "cell_type": "markdown",
   "metadata": {},
   "source": [
    "# Homework 7, Part Two: A dataset about dogs.\n",
    "\n",
    "Data from [a FOIL request to New York City](https://www.muckrock.com/foi/new-york-city-17/pet-licensing-data-for-new-york-city-23826/).\n",
    "\n",
    "Some of the questions get kind of weird in this one, especially later on. **Feel free to lean on ChatGPT for the crazier ones!** It might be an interesting exploration of how to ask problems or explain what your dataset looks like."
   ]
  },
  {
   "cell_type": "markdown",
   "metadata": {},
   "source": [
    "## Do your importing and your setup"
   ]
  },
  {
   "cell_type": "code",
   "execution_count": 16,
   "metadata": {},
   "outputs": [
    {
     "name": "stdout",
     "output_type": "stream",
     "text": [
      "Dataset TWO - Dogs.ipynb\n",
      "NYC_Dog_Licenses_Current_as_of_4-28-2016.xlsx\n",
      "boro_population.csv\n",
      "zipcodes-neighborhoods.csv\n"
     ]
    }
   ],
   "source": [
    "!ls \n",
    "\n",
    "import pandas as pd"
   ]
  },
  {
   "cell_type": "markdown",
   "metadata": {},
   "source": [
    "## Read in the file `NYC_Dog_Licenses_Current_as_of_4-28-2016.xlsx` and look at the first five rows"
   ]
  },
  {
   "cell_type": "code",
   "execution_count": 18,
   "metadata": {},
   "outputs": [
    {
     "data": {
      "text/html": [
       "<div>\n",
       "<style scoped>\n",
       "    .dataframe tbody tr th:only-of-type {\n",
       "        vertical-align: middle;\n",
       "    }\n",
       "\n",
       "    .dataframe tbody tr th {\n",
       "        vertical-align: top;\n",
       "    }\n",
       "\n",
       "    .dataframe thead th {\n",
       "        text-align: right;\n",
       "    }\n",
       "</style>\n",
       "<table border=\"1\" class=\"dataframe\">\n",
       "  <thead>\n",
       "    <tr style=\"text-align: right;\">\n",
       "      <th></th>\n",
       "      <th>Owner Zip Code</th>\n",
       "      <th>Animal Name</th>\n",
       "      <th>Animal Gender</th>\n",
       "      <th>Primary Breed</th>\n",
       "      <th>Secondary Breed</th>\n",
       "      <th>Animal Dominant Color</th>\n",
       "      <th>Animal Secondary Color</th>\n",
       "      <th>Animal Third Color</th>\n",
       "      <th>Animal Birth</th>\n",
       "      <th>Spayed or Neut</th>\n",
       "      <th>Guard or Trained</th>\n",
       "      <th>Vaccinated</th>\n",
       "      <th>Application Date</th>\n",
       "      <th>License Issued Date</th>\n",
       "      <th>License Expired Date</th>\n",
       "    </tr>\n",
       "  </thead>\n",
       "  <tbody>\n",
       "    <tr>\n",
       "      <th>0</th>\n",
       "      <td>10024</td>\n",
       "      <td>BLUE MACK</td>\n",
       "      <td>M</td>\n",
       "      <td>Unknown</td>\n",
       "      <td>AIREDALE TERR</td>\n",
       "      <td>BROWN</td>\n",
       "      <td>BLACK</td>\n",
       "      <td>NaN</td>\n",
       "      <td>2007-11-01</td>\n",
       "      <td>Yes</td>\n",
       "      <td>No</td>\n",
       "      <td>Yes</td>\n",
       "      <td>2012-09-19 16:01:19.647</td>\n",
       "      <td>2015-09-19</td>\n",
       "      <td>2016-09-19</td>\n",
       "    </tr>\n",
       "    <tr>\n",
       "      <th>1</th>\n",
       "      <td>10461</td>\n",
       "      <td>Indie Zephir</td>\n",
       "      <td>M</td>\n",
       "      <td>Rottweiler</td>\n",
       "      <td>NaN</td>\n",
       "      <td>BLACK</td>\n",
       "      <td>TAN</td>\n",
       "      <td>NaN</td>\n",
       "      <td>2013-04-01</td>\n",
       "      <td>No</td>\n",
       "      <td>No</td>\n",
       "      <td>Yes</td>\n",
       "      <td>2013-09-20 11:41:36.647</td>\n",
       "      <td>2014-09-20</td>\n",
       "      <td>2018-09-20</td>\n",
       "    </tr>\n",
       "    <tr>\n",
       "      <th>2</th>\n",
       "      <td>10013</td>\n",
       "      <td>Bilal</td>\n",
       "      <td>M</td>\n",
       "      <td>Australian Cattledog</td>\n",
       "      <td>NaN</td>\n",
       "      <td>Rust</td>\n",
       "      <td>NaN</td>\n",
       "      <td>NaN</td>\n",
       "      <td>2014-09-01</td>\n",
       "      <td>Yes</td>\n",
       "      <td>NaN</td>\n",
       "      <td>No</td>\n",
       "      <td>2014-09-12 13:13:36.713</td>\n",
       "      <td>2014-09-12</td>\n",
       "      <td>2019-09-12</td>\n",
       "    </tr>\n",
       "    <tr>\n",
       "      <th>3</th>\n",
       "      <td>10025</td>\n",
       "      <td>Buddy</td>\n",
       "      <td>M</td>\n",
       "      <td>Unknown</td>\n",
       "      <td>Cockapoo</td>\n",
       "      <td>BLOND</td>\n",
       "      <td>WHITE</td>\n",
       "      <td>NaN</td>\n",
       "      <td>2008-04-01</td>\n",
       "      <td>Yes</td>\n",
       "      <td>No</td>\n",
       "      <td>Yes</td>\n",
       "      <td>2014-09-12 15:26:51.417</td>\n",
       "      <td>2014-09-12</td>\n",
       "      <td>2017-10-20</td>\n",
       "    </tr>\n",
       "    <tr>\n",
       "      <th>4</th>\n",
       "      <td>10013</td>\n",
       "      <td>Ali</td>\n",
       "      <td>M</td>\n",
       "      <td>Basenji</td>\n",
       "      <td>NaN</td>\n",
       "      <td>Black</td>\n",
       "      <td>NaN</td>\n",
       "      <td>NaN</td>\n",
       "      <td>2014-01-01</td>\n",
       "      <td>No</td>\n",
       "      <td>NaN</td>\n",
       "      <td>No</td>\n",
       "      <td>2014-09-12 15:43:17.707</td>\n",
       "      <td>2014-09-12</td>\n",
       "      <td>2019-09-12</td>\n",
       "    </tr>\n",
       "    <tr>\n",
       "      <th>...</th>\n",
       "      <td>...</td>\n",
       "      <td>...</td>\n",
       "      <td>...</td>\n",
       "      <td>...</td>\n",
       "      <td>...</td>\n",
       "      <td>...</td>\n",
       "      <td>...</td>\n",
       "      <td>...</td>\n",
       "      <td>...</td>\n",
       "      <td>...</td>\n",
       "      <td>...</td>\n",
       "      <td>...</td>\n",
       "      <td>...</td>\n",
       "      <td>...</td>\n",
       "      <td>...</td>\n",
       "    </tr>\n",
       "    <tr>\n",
       "      <th>29995</th>\n",
       "      <td>11372</td>\n",
       "      <td>Bella</td>\n",
       "      <td>F</td>\n",
       "      <td>Unknown</td>\n",
       "      <td>Goldendoodle</td>\n",
       "      <td>CREAM</td>\n",
       "      <td>WHITE</td>\n",
       "      <td>TAN</td>\n",
       "      <td>2010-07-01</td>\n",
       "      <td>Yes</td>\n",
       "      <td>No</td>\n",
       "      <td>Yes</td>\n",
       "      <td>2015-08-22 19:00:39.303</td>\n",
       "      <td>2015-08-22</td>\n",
       "      <td>2016-09-27</td>\n",
       "    </tr>\n",
       "    <tr>\n",
       "      <th>29996</th>\n",
       "      <td>11417</td>\n",
       "      <td>Sadie</td>\n",
       "      <td>F</td>\n",
       "      <td>Schnauzer, Miniature</td>\n",
       "      <td>NaN</td>\n",
       "      <td>BLACK</td>\n",
       "      <td>BROWN</td>\n",
       "      <td>NaN</td>\n",
       "      <td>2010-05-01</td>\n",
       "      <td>Yes</td>\n",
       "      <td>No</td>\n",
       "      <td>Yes</td>\n",
       "      <td>2015-08-22 19:03:08.003</td>\n",
       "      <td>2015-08-22</td>\n",
       "      <td>2016-09-28</td>\n",
       "    </tr>\n",
       "    <tr>\n",
       "      <th>29997</th>\n",
       "      <td>11228</td>\n",
       "      <td>unknown</td>\n",
       "      <td>M</td>\n",
       "      <td>Pomeranian</td>\n",
       "      <td>NaN</td>\n",
       "      <td>Tan</td>\n",
       "      <td>White</td>\n",
       "      <td>NaN</td>\n",
       "      <td>2014-03-01</td>\n",
       "      <td>Yes</td>\n",
       "      <td>NaN</td>\n",
       "      <td>Yes</td>\n",
       "      <td>2015-08-22 19:04:56.720</td>\n",
       "      <td>2015-08-22</td>\n",
       "      <td>2016-08-22</td>\n",
       "    </tr>\n",
       "    <tr>\n",
       "      <th>29998</th>\n",
       "      <td>11217</td>\n",
       "      <td>daisy</td>\n",
       "      <td>F</td>\n",
       "      <td>Unknown</td>\n",
       "      <td>NaN</td>\n",
       "      <td>GRAY</td>\n",
       "      <td>WHITE</td>\n",
       "      <td>BLACK</td>\n",
       "      <td>2009-01-01</td>\n",
       "      <td>Yes</td>\n",
       "      <td>No</td>\n",
       "      <td>Yes</td>\n",
       "      <td>2015-08-22 19:14:30.177</td>\n",
       "      <td>2015-08-22</td>\n",
       "      <td>2016-08-05</td>\n",
       "    </tr>\n",
       "    <tr>\n",
       "      <th>29999</th>\n",
       "      <td>10038</td>\n",
       "      <td>Squeeze</td>\n",
       "      <td>M</td>\n",
       "      <td>Shih Tzu</td>\n",
       "      <td>NaN</td>\n",
       "      <td>TAN</td>\n",
       "      <td>WHITE</td>\n",
       "      <td>NaN</td>\n",
       "      <td>2012-03-01</td>\n",
       "      <td>Yes</td>\n",
       "      <td>No</td>\n",
       "      <td>Yes</td>\n",
       "      <td>2015-08-22 19:20:53.700</td>\n",
       "      <td>2015-08-22</td>\n",
       "      <td>2016-07-23</td>\n",
       "    </tr>\n",
       "  </tbody>\n",
       "</table>\n",
       "<p>30000 rows × 15 columns</p>\n",
       "</div>"
      ],
      "text/plain": [
       "       Owner Zip Code   Animal Name Animal Gender         Primary Breed  \\\n",
       "0               10024     BLUE MACK             M               Unknown   \n",
       "1               10461  Indie Zephir             M            Rottweiler   \n",
       "2               10013         Bilal             M  Australian Cattledog   \n",
       "3               10025         Buddy             M               Unknown   \n",
       "4               10013           Ali             M               Basenji   \n",
       "...               ...           ...           ...                   ...   \n",
       "29995           11372         Bella             F               Unknown   \n",
       "29996           11417         Sadie             F  Schnauzer, Miniature   \n",
       "29997           11228       unknown             M            Pomeranian   \n",
       "29998           11217         daisy             F               Unknown   \n",
       "29999           10038       Squeeze             M              Shih Tzu   \n",
       "\n",
       "      Secondary Breed Animal Dominant Color Animal Secondary Color  \\\n",
       "0       AIREDALE TERR                 BROWN                  BLACK   \n",
       "1                 NaN                 BLACK                    TAN   \n",
       "2                 NaN                  Rust                    NaN   \n",
       "3            Cockapoo                 BLOND                  WHITE   \n",
       "4                 NaN                 Black                    NaN   \n",
       "...               ...                   ...                    ...   \n",
       "29995    Goldendoodle                 CREAM                  WHITE   \n",
       "29996             NaN                 BLACK                  BROWN   \n",
       "29997             NaN                   Tan                  White   \n",
       "29998             NaN                  GRAY                  WHITE   \n",
       "29999             NaN                   TAN                  WHITE   \n",
       "\n",
       "      Animal Third Color Animal Birth Spayed or Neut Guard or Trained  \\\n",
       "0                    NaN   2007-11-01            Yes               No   \n",
       "1                    NaN   2013-04-01             No               No   \n",
       "2                    NaN   2014-09-01            Yes              NaN   \n",
       "3                    NaN   2008-04-01            Yes               No   \n",
       "4                    NaN   2014-01-01             No              NaN   \n",
       "...                  ...          ...            ...              ...   \n",
       "29995                TAN   2010-07-01            Yes               No   \n",
       "29996                NaN   2010-05-01            Yes               No   \n",
       "29997                NaN   2014-03-01            Yes              NaN   \n",
       "29998              BLACK   2009-01-01            Yes               No   \n",
       "29999                NaN   2012-03-01            Yes               No   \n",
       "\n",
       "      Vaccinated        Application Date License Issued Date  \\\n",
       "0            Yes 2012-09-19 16:01:19.647          2015-09-19   \n",
       "1            Yes 2013-09-20 11:41:36.647          2014-09-20   \n",
       "2             No 2014-09-12 13:13:36.713          2014-09-12   \n",
       "3            Yes 2014-09-12 15:26:51.417          2014-09-12   \n",
       "4             No 2014-09-12 15:43:17.707          2014-09-12   \n",
       "...          ...                     ...                 ...   \n",
       "29995        Yes 2015-08-22 19:00:39.303          2015-08-22   \n",
       "29996        Yes 2015-08-22 19:03:08.003          2015-08-22   \n",
       "29997        Yes 2015-08-22 19:04:56.720          2015-08-22   \n",
       "29998        Yes 2015-08-22 19:14:30.177          2015-08-22   \n",
       "29999        Yes 2015-08-22 19:20:53.700          2015-08-22   \n",
       "\n",
       "      License Expired Date  \n",
       "0               2016-09-19  \n",
       "1               2018-09-20  \n",
       "2               2019-09-12  \n",
       "3               2017-10-20  \n",
       "4               2019-09-12  \n",
       "...                    ...  \n",
       "29995           2016-09-27  \n",
       "29996           2016-09-28  \n",
       "29997           2016-08-22  \n",
       "29998           2016-08-05  \n",
       "29999           2016-07-23  \n",
       "\n",
       "[30000 rows x 15 columns]"
      ]
     },
     "execution_count": 18,
     "metadata": {},
     "output_type": "execute_result"
    }
   ],
   "source": [
    "df = pd.read_excel(\"NYC_Dog_Licenses_Current_as_of_4-28-2016.xlsx\")\n",
    "df = pd.read_excel(\"NYC_Dog_Licenses_Current_as_of_4-28-2016.xlsx\", nrows=30000) #reads only the first 30,000\n",
    "df"
   ]
  },
  {
   "cell_type": "markdown",
   "metadata": {},
   "source": [
    "## How many rows do you have in the data? What are the column types?\n",
    "\n",
    "If there are more than 30,000 rows in your dataset, go back and only read in the first 30,000."
   ]
  },
  {
   "cell_type": "code",
   "execution_count": null,
   "metadata": {},
   "outputs": [],
   "source": [
    "#There were some 81,000 rows. "
   ]
  },
  {
   "cell_type": "markdown",
   "metadata": {},
   "source": [
    "## Describe the dataset in words. What is each row? List two column titles along with what each of those columns means.\n",
    "\n",
    "For example: “Each row is an animal in the zoo. `is_reptile` is whether the animal is a reptile or not”"
   ]
  },
  {
   "cell_type": "code",
   "execution_count": 19,
   "metadata": {},
   "outputs": [
    {
     "name": "stdout",
     "output_type": "stream",
     "text": [
      "The dataset shows the Dog Licenses in NYC as of 4/28/2016. Owner Zip Code is a show that shows us the zip code of the owner of the dog and Animal Name is the row which gives us the name of the animal.\n"
     ]
    }
   ],
   "source": [
    "print(\"The dataset shows the Dog Licenses in NYC as of 4/28/2016. Owner Zip Code is a show that shows us the zip code of the owner of the dog and Animal Name is the row which gives us the name of the animal.\")"
   ]
  },
  {
   "cell_type": "markdown",
   "metadata": {},
   "source": [
    "# Your thoughts\n",
    "\n",
    "Think of three questions you could ask this dataset. **Don't ask them**, just write them down in the cell below. Feel free to use either Markdown or Python comments."
   ]
  },
  {
   "cell_type": "code",
   "execution_count": null,
   "metadata": {},
   "outputs": [],
   "source": [
    "# How many of the dogs are vaccinated?\n",
    "# How many dogs have South Asian names?\n",
    "# How many dogs are both vaccinated and spayed?"
   ]
  },
  {
   "cell_type": "markdown",
   "metadata": {},
   "source": [
    "# Looking at some dogs"
   ]
  },
  {
   "cell_type": "markdown",
   "metadata": {},
   "source": [
    "## What are the most popular (primary) breeds of dogs? Graph the top 10."
   ]
  },
  {
   "cell_type": "code",
   "execution_count": 27,
   "metadata": {},
   "outputs": [
    {
     "data": {
      "text/plain": [
       "<Axes: ylabel='Primary Breed'>"
      ]
     },
     "execution_count": 27,
     "metadata": {},
     "output_type": "execute_result"
    },
    {
     "data": {
      "image/png": "[encoded data removed]",
      "text/plain": [
       "<Figure size 640x480 with 1 Axes>"
      ]
     },
     "metadata": {},
     "output_type": "display_data"
    }
   ],
   "source": [
    "df['Primary Breed'].value_counts().head(10).sort_values().plot(kind = 'barh')"
   ]
  },
  {
   "cell_type": "markdown",
   "metadata": {},
   "source": [
    "## \"Unknown\" is a terrible breed! Graph the top 10 breeds that are NOT Unknown"
   ]
  },
  {
   "cell_type": "code",
   "execution_count": 29,
   "metadata": {},
   "outputs": [
    {
     "data": {
      "text/plain": [
       "<Axes: ylabel='Primary Breed'>"
      ]
     },
     "execution_count": 29,
     "metadata": {},
     "output_type": "execute_result"
    },
    {
     "data": {
      "image/png": "[encoded data removed]",
      "text/plain": [
       "<Figure size 640x480 with 1 Axes>"
      ]
     },
     "metadata": {},
     "output_type": "display_data"
    }
   ],
   "source": [
    "df[df['Primary Breed'] != 'Unknown']['Primary Breed'].value_counts().head(10).sort_values().plot(kind='barh')\n"
   ]
  },
  {
   "cell_type": "markdown",
   "metadata": {},
   "source": [
    "## What are the most popular dog names?"
   ]
  },
  {
   "cell_type": "code",
   "execution_count": 30,
   "metadata": {},
   "outputs": [
    {
     "data": {
      "text/plain": [
       "Animal Name\n",
       "UNKNOWN          203\n",
       "Max              202\n",
       "Unknown          197\n",
       "Bella            193\n",
       "Charlie          172\n",
       "                ... \n",
       "Bluno              1\n",
       "DARBY              1\n",
       "CHARLEY VIVAR      1\n",
       "TINY               1\n",
       "Squeeze            1\n",
       "Name: count, Length: 13720, dtype: int64"
      ]
     },
     "execution_count": 30,
     "metadata": {},
     "output_type": "execute_result"
    }
   ],
   "source": [
    "df['Animal Name'].value_counts()"
   ]
  },
  {
   "cell_type": "markdown",
   "metadata": {},
   "source": [
    "## Do any dogs have your name? How many dogs are named \"Max,\" and how many are named \"Maxwell\"?"
   ]
  },
  {
   "cell_type": "code",
   "execution_count": 31,
   "metadata": {},
   "outputs": [
    {
     "data": {
      "text/html": [
       "<div>\n",
       "<style scoped>\n",
       "    .dataframe tbody tr th:only-of-type {\n",
       "        vertical-align: middle;\n",
       "    }\n",
       "\n",
       "    .dataframe tbody tr th {\n",
       "        vertical-align: top;\n",
       "    }\n",
       "\n",
       "    .dataframe thead th {\n",
       "        text-align: right;\n",
       "    }\n",
       "</style>\n",
       "<table border=\"1\" class=\"dataframe\">\n",
       "  <thead>\n",
       "    <tr style=\"text-align: right;\">\n",
       "      <th></th>\n",
       "      <th>Owner Zip Code</th>\n",
       "      <th>Animal Name</th>\n",
       "      <th>Animal Gender</th>\n",
       "      <th>Primary Breed</th>\n",
       "      <th>Secondary Breed</th>\n",
       "      <th>Animal Dominant Color</th>\n",
       "      <th>Animal Secondary Color</th>\n",
       "      <th>Animal Third Color</th>\n",
       "      <th>Animal Birth</th>\n",
       "      <th>Spayed or Neut</th>\n",
       "      <th>Guard or Trained</th>\n",
       "      <th>Vaccinated</th>\n",
       "      <th>Application Date</th>\n",
       "      <th>License Issued Date</th>\n",
       "      <th>License Expired Date</th>\n",
       "    </tr>\n",
       "  </thead>\n",
       "  <tbody>\n",
       "  </tbody>\n",
       "</table>\n",
       "</div>"
      ],
      "text/plain": [
       "Empty DataFrame\n",
       "Columns: [Owner Zip Code, Animal Name, Animal Gender, Primary Breed, Secondary Breed, Animal Dominant Color, Animal Secondary Color, Animal Third Color, Animal Birth, Spayed or Neut, Guard or Trained, Vaccinated, Application Date, License Issued Date, License Expired Date]\n",
       "Index: []"
      ]
     },
     "execution_count": 31,
     "metadata": {},
     "output_type": "execute_result"
    }
   ],
   "source": [
    "df[df['Animal Name'] == 'Somaiyah']"
   ]
  },
  {
   "cell_type": "code",
   "execution_count": 33,
   "metadata": {},
   "outputs": [
    {
     "data": {
      "text/html": [
       "<div>\n",
       "<style scoped>\n",
       "    .dataframe tbody tr th:only-of-type {\n",
       "        vertical-align: middle;\n",
       "    }\n",
       "\n",
       "    .dataframe tbody tr th {\n",
       "        vertical-align: top;\n",
       "    }\n",
       "\n",
       "    .dataframe thead th {\n",
       "        text-align: right;\n",
       "    }\n",
       "</style>\n",
       "<table border=\"1\" class=\"dataframe\">\n",
       "  <thead>\n",
       "    <tr style=\"text-align: right;\">\n",
       "      <th></th>\n",
       "      <th>Owner Zip Code</th>\n",
       "      <th>Animal Name</th>\n",
       "      <th>Animal Gender</th>\n",
       "      <th>Primary Breed</th>\n",
       "      <th>Secondary Breed</th>\n",
       "      <th>Animal Dominant Color</th>\n",
       "      <th>Animal Secondary Color</th>\n",
       "      <th>Animal Third Color</th>\n",
       "      <th>Animal Birth</th>\n",
       "      <th>Spayed or Neut</th>\n",
       "      <th>Guard or Trained</th>\n",
       "      <th>Vaccinated</th>\n",
       "      <th>Application Date</th>\n",
       "      <th>License Issued Date</th>\n",
       "      <th>License Expired Date</th>\n",
       "      <th>count</th>\n",
       "    </tr>\n",
       "  </thead>\n",
       "  <tbody>\n",
       "    <tr>\n",
       "      <th>0</th>\n",
       "      <td>10023</td>\n",
       "      <td>Max</td>\n",
       "      <td>M</td>\n",
       "      <td>Unknown</td>\n",
       "      <td>Mixed</td>\n",
       "      <td>TAN</td>\n",
       "      <td>WHITE</td>\n",
       "      <td>BLACK</td>\n",
       "      <td>2004-01-01</td>\n",
       "      <td>Yes</td>\n",
       "      <td>No</td>\n",
       "      <td>Yes</td>\n",
       "      <td>2015-06-25 14:31:21.520</td>\n",
       "      <td>2015-06-25</td>\n",
       "      <td>2016-06-29</td>\n",
       "      <td>1</td>\n",
       "    </tr>\n",
       "    <tr>\n",
       "      <th>1</th>\n",
       "      <td>10308</td>\n",
       "      <td>Max</td>\n",
       "      <td>M</td>\n",
       "      <td>Unknown</td>\n",
       "      <td>Terrier Mix</td>\n",
       "      <td>TAN</td>\n",
       "      <td>WHITE</td>\n",
       "      <td>BLACK</td>\n",
       "      <td>2003-01-01</td>\n",
       "      <td>Yes</td>\n",
       "      <td>No</td>\n",
       "      <td>No</td>\n",
       "      <td>2015-07-20 16:09:18.523</td>\n",
       "      <td>2015-07-20</td>\n",
       "      <td>2016-07-30</td>\n",
       "      <td>1</td>\n",
       "    </tr>\n",
       "    <tr>\n",
       "      <th>2</th>\n",
       "      <td>11373</td>\n",
       "      <td>Max</td>\n",
       "      <td>M</td>\n",
       "      <td>Unknown</td>\n",
       "      <td>collie</td>\n",
       "      <td>BLOND</td>\n",
       "      <td>WHITE</td>\n",
       "      <td>BROWN</td>\n",
       "      <td>2010-07-01</td>\n",
       "      <td>Yes</td>\n",
       "      <td>No</td>\n",
       "      <td>Yes</td>\n",
       "      <td>2015-06-12 13:05:26.267</td>\n",
       "      <td>2015-06-12</td>\n",
       "      <td>2016-07-05</td>\n",
       "      <td>1</td>\n",
       "    </tr>\n",
       "    <tr>\n",
       "      <th>3</th>\n",
       "      <td>11379</td>\n",
       "      <td>Max</td>\n",
       "      <td>M</td>\n",
       "      <td>Unknown</td>\n",
       "      <td>Yorkie-Poo</td>\n",
       "      <td>BLACK</td>\n",
       "      <td>TAN</td>\n",
       "      <td>GRAY</td>\n",
       "      <td>2010-01-01</td>\n",
       "      <td>Yes</td>\n",
       "      <td>No</td>\n",
       "      <td>Yes</td>\n",
       "      <td>2015-05-04 09:05:35.493</td>\n",
       "      <td>2015-05-04</td>\n",
       "      <td>2016-06-07</td>\n",
       "      <td>1</td>\n",
       "    </tr>\n",
       "  </tbody>\n",
       "</table>\n",
       "</div>"
      ],
      "text/plain": [
       "   Owner Zip Code Animal Name Animal Gender Primary Breed  Secondary Breed  \\\n",
       "0           10023         Max             M       Unknown        Mixed       \n",
       "1           10308         Max             M       Unknown  Terrier Mix       \n",
       "2           11373         Max             M       Unknown           collie   \n",
       "3           11379         Max             M       Unknown   Yorkie-Poo       \n",
       "\n",
       "  Animal Dominant Color Animal Secondary Color Animal Third Color  \\\n",
       "0                   TAN                  WHITE              BLACK   \n",
       "1                   TAN                  WHITE              BLACK   \n",
       "2                 BLOND                  WHITE              BROWN   \n",
       "3                 BLACK                    TAN               GRAY   \n",
       "\n",
       "  Animal Birth Spayed or Neut Guard or Trained Vaccinated  \\\n",
       "0   2004-01-01            Yes               No        Yes   \n",
       "1   2003-01-01            Yes               No         No   \n",
       "2   2010-07-01            Yes               No        Yes   \n",
       "3   2010-01-01            Yes               No        Yes   \n",
       "\n",
       "         Application Date License Issued Date License Expired Date  count  \n",
       "0 2015-06-25 14:31:21.520          2015-06-25           2016-06-29      1  \n",
       "1 2015-07-20 16:09:18.523          2015-07-20           2016-07-30      1  \n",
       "2 2015-06-12 13:05:26.267          2015-06-12           2016-07-05      1  \n",
       "3 2015-05-04 09:05:35.493          2015-05-04           2016-06-07      1  "
      ]
     },
     "execution_count": 33,
     "metadata": {},
     "output_type": "execute_result"
    }
   ],
   "source": [
    "df[df['Animal Name'] == 'Max'].value_counts().reset_index()"
   ]
  },
  {
   "cell_type": "code",
   "execution_count": 34,
   "metadata": {},
   "outputs": [
    {
     "data": {
      "text/html": [
       "<div>\n",
       "<style scoped>\n",
       "    .dataframe tbody tr th:only-of-type {\n",
       "        vertical-align: middle;\n",
       "    }\n",
       "\n",
       "    .dataframe tbody tr th {\n",
       "        vertical-align: top;\n",
       "    }\n",
       "\n",
       "    .dataframe thead th {\n",
       "        text-align: right;\n",
       "    }\n",
       "</style>\n",
       "<table border=\"1\" class=\"dataframe\">\n",
       "  <thead>\n",
       "    <tr style=\"text-align: right;\">\n",
       "      <th></th>\n",
       "      <th>Owner Zip Code</th>\n",
       "      <th>Animal Name</th>\n",
       "      <th>Animal Gender</th>\n",
       "      <th>Primary Breed</th>\n",
       "      <th>Secondary Breed</th>\n",
       "      <th>Animal Dominant Color</th>\n",
       "      <th>Animal Secondary Color</th>\n",
       "      <th>Animal Third Color</th>\n",
       "      <th>Animal Birth</th>\n",
       "      <th>Spayed or Neut</th>\n",
       "      <th>Guard or Trained</th>\n",
       "      <th>Vaccinated</th>\n",
       "      <th>Application Date</th>\n",
       "      <th>License Issued Date</th>\n",
       "      <th>License Expired Date</th>\n",
       "      <th>count</th>\n",
       "    </tr>\n",
       "  </thead>\n",
       "  <tbody>\n",
       "    <tr>\n",
       "      <th>0</th>\n",
       "      <td>10030</td>\n",
       "      <td>Maxwell</td>\n",
       "      <td>M</td>\n",
       "      <td>Unknown</td>\n",
       "      <td>Malti-Poo</td>\n",
       "      <td>BLACK</td>\n",
       "      <td>TAN</td>\n",
       "      <td>WHITE</td>\n",
       "      <td>2009-02-01</td>\n",
       "      <td>Yes</td>\n",
       "      <td>No</td>\n",
       "      <td>No</td>\n",
       "      <td>2015-08-19 20:36:01.527</td>\n",
       "      <td>2015-08-19</td>\n",
       "      <td>2017-09-03</td>\n",
       "      <td>1</td>\n",
       "    </tr>\n",
       "  </tbody>\n",
       "</table>\n",
       "</div>"
      ],
      "text/plain": [
       "   Owner Zip Code Animal Name Animal Gender Primary Breed  Secondary Breed  \\\n",
       "0           10030     Maxwell             M       Unknown  Malti-Poo         \n",
       "\n",
       "  Animal Dominant Color Animal Secondary Color Animal Third Color  \\\n",
       "0                 BLACK                    TAN              WHITE   \n",
       "\n",
       "  Animal Birth Spayed or Neut Guard or Trained Vaccinated  \\\n",
       "0   2009-02-01            Yes               No         No   \n",
       "\n",
       "         Application Date License Issued Date License Expired Date  count  \n",
       "0 2015-08-19 20:36:01.527          2015-08-19           2017-09-03      1  "
      ]
     },
     "execution_count": 34,
     "metadata": {},
     "output_type": "execute_result"
    }
   ],
   "source": [
    "df[df['Animal Name'] == 'Maxwell'].value_counts().reset_index()"
   ]
  },
  {
   "cell_type": "markdown",
   "metadata": {},
   "source": [
    "## What percentage of dogs are guard dogs?\n",
    "\n",
    "Check out the documentation for [value counts](https://pandas.pydata.org/pandas-docs/stable/generated/pandas.Series.value_counts.html)."
   ]
  },
  {
   "cell_type": "code",
   "execution_count": 54,
   "metadata": {},
   "outputs": [
    {
     "data": {
      "text/plain": [
       "Guard or Trained\n",
       "No     99.914254\n",
       "Yes     0.085746\n",
       "Name: proportion, dtype: float64"
      ]
     },
     "execution_count": 54,
     "metadata": {},
     "output_type": "execute_result"
    }
   ],
   "source": [
    "guard_dogs_percentage = df['Guard or Trained'].value_counts(normalize=True)*100\n",
    "guard_dogs_percentage\n",
    "\n"
   ]
  },
  {
   "cell_type": "markdown",
   "metadata": {},
   "source": [
    "## What are the actual numbers?"
   ]
  },
  {
   "cell_type": "code",
   "execution_count": 55,
   "metadata": {},
   "outputs": [
    {
     "data": {
      "text/plain": [
       "Guard or Trained\n",
       "No     19809\n",
       "Yes       17\n",
       "Name: count, dtype: int64"
      ]
     },
     "execution_count": 55,
     "metadata": {},
     "output_type": "execute_result"
    }
   ],
   "source": [
    "guard_dogs = df['Guard or Trained'].value_counts()\n",
    "guard_dogs"
   ]
  },
  {
   "cell_type": "markdown",
   "metadata": {},
   "source": [
    "## Wait... if you add that up, is it the same as your number of rows? Where are the other dogs???? How can we find them??????\n",
    "\n",
    "Use your `.head()` to think about it, then you'll do some magic with `.value_counts()`"
   ]
  },
  {
   "cell_type": "code",
   "execution_count": 69,
   "metadata": {},
   "outputs": [
    {
     "data": {
      "text/plain": [
       "Guard or Trained\n",
       "No     19809\n",
       "NaN    10174\n",
       "Yes       17\n",
       "Name: count, dtype: int64"
      ]
     },
     "execution_count": 69,
     "metadata": {},
     "output_type": "execute_result"
    }
   ],
   "source": [
    "19809+17\n",
    "#No, it doesn't add up.\n",
    "df['Guard or Trained'].head()\n",
    "distribution = df['Guard or Trained'].value_counts(dropna=False) \n",
    "distribution"
   ]
  },
  {
   "cell_type": "markdown",
   "metadata": {},
   "source": [
    "## Fill in all of those empty \"Guard or Trained\" columns with \"No\"\n",
    "\n",
    "**We're maing a big assumption** here that if they aren't listed as guard dogs, they probably aren't guard dogs.\n",
    "\n",
    "Look up `.fillna`. Check your result with another `.value_counts()`"
   ]
  },
  {
   "cell_type": "code",
   "execution_count": 73,
   "metadata": {},
   "outputs": [
    {
     "data": {
      "text/plain": [
       "0        No\n",
       "1        No\n",
       "2        No\n",
       "3        No\n",
       "4        No\n",
       "         ..\n",
       "29995    No\n",
       "29996    No\n",
       "29997    No\n",
       "29998    No\n",
       "29999    No\n",
       "Name: Guard or Trained, Length: 30000, dtype: object"
      ]
     },
     "execution_count": 73,
     "metadata": {},
     "output_type": "execute_result"
    }
   ],
   "source": [
    "df['Guard or Trained'] = df['Guard or Trained'].fillna('No')\n",
    "df['Guard or Trained']"
   ]
  },
  {
   "cell_type": "markdown",
   "metadata": {},
   "source": [
    "## What are the top dog breeds for guard dogs? "
   ]
  },
  {
   "cell_type": "code",
   "execution_count": 74,
   "metadata": {},
   "outputs": [
    {
     "data": {
      "text/plain": [
       "2363                        Unknown\n",
       "2702               Poodle, Standard\n",
       "2871                        Unknown\n",
       "3065                        Unknown\n",
       "3274            German Shepherd Dog\n",
       "5231     German Shepherd Crossbreed\n",
       "10082            Labrador Retriever\n",
       "11897           German Shepherd Dog\n",
       "11925             Doberman Pinscher\n",
       "15044                      Shih Tzu\n",
       "20543                    Rottweiler\n",
       "20851              Golden Retriever\n",
       "26278           German Shepherd Dog\n",
       "27584                       Unknown\n",
       "27873          Schnauzer, Miniature\n",
       "27898             Yorkshire Terrier\n",
       "29443                       Unknown\n",
       "Name: Primary Breed, dtype: object"
      ]
     },
     "execution_count": 74,
     "metadata": {},
     "output_type": "execute_result"
    }
   ],
   "source": [
    "guard_dogs_breed = df[df['Guard or Trained'] == 'Yes']['Primary Breed']\n",
    "guard_dogs_breed"
   ]
  },
  {
   "cell_type": "markdown",
   "metadata": {},
   "source": [
    "## Create a new column called \"year\" that is the dog's year of birth\n",
    "\n",
    "The `Animal Birth` column is a datetime, so you can get the year out of it with `df['Animal Birth'].dt.year` or `df['Animal Birth'].apply(lambda birth: birth.year)`."
   ]
  },
  {
   "cell_type": "code",
   "execution_count": 87,
   "metadata": {},
   "outputs": [
    {
     "data": {
      "text/html": [
       "<div>\n",
       "<style scoped>\n",
       "    .dataframe tbody tr th:only-of-type {\n",
       "        vertical-align: middle;\n",
       "    }\n",
       "\n",
       "    .dataframe tbody tr th {\n",
       "        vertical-align: top;\n",
       "    }\n",
       "\n",
       "    .dataframe thead th {\n",
       "        text-align: right;\n",
       "    }\n",
       "</style>\n",
       "<table border=\"1\" class=\"dataframe\">\n",
       "  <thead>\n",
       "    <tr style=\"text-align: right;\">\n",
       "      <th></th>\n",
       "      <th>index</th>\n",
       "      <th>birth_year</th>\n",
       "    </tr>\n",
       "  </thead>\n",
       "  <tbody>\n",
       "    <tr>\n",
       "      <th>0</th>\n",
       "      <td>0</td>\n",
       "      <td>2007</td>\n",
       "    </tr>\n",
       "    <tr>\n",
       "      <th>1</th>\n",
       "      <td>1</td>\n",
       "      <td>2013</td>\n",
       "    </tr>\n",
       "    <tr>\n",
       "      <th>2</th>\n",
       "      <td>2</td>\n",
       "      <td>2014</td>\n",
       "    </tr>\n",
       "    <tr>\n",
       "      <th>3</th>\n",
       "      <td>3</td>\n",
       "      <td>2008</td>\n",
       "    </tr>\n",
       "    <tr>\n",
       "      <th>4</th>\n",
       "      <td>4</td>\n",
       "      <td>2014</td>\n",
       "    </tr>\n",
       "    <tr>\n",
       "      <th>...</th>\n",
       "      <td>...</td>\n",
       "      <td>...</td>\n",
       "    </tr>\n",
       "    <tr>\n",
       "      <th>29995</th>\n",
       "      <td>29995</td>\n",
       "      <td>2010</td>\n",
       "    </tr>\n",
       "    <tr>\n",
       "      <th>29996</th>\n",
       "      <td>29996</td>\n",
       "      <td>2010</td>\n",
       "    </tr>\n",
       "    <tr>\n",
       "      <th>29997</th>\n",
       "      <td>29997</td>\n",
       "      <td>2014</td>\n",
       "    </tr>\n",
       "    <tr>\n",
       "      <th>29998</th>\n",
       "      <td>29998</td>\n",
       "      <td>2009</td>\n",
       "    </tr>\n",
       "    <tr>\n",
       "      <th>29999</th>\n",
       "      <td>29999</td>\n",
       "      <td>2012</td>\n",
       "    </tr>\n",
       "  </tbody>\n",
       "</table>\n",
       "<p>30000 rows × 2 columns</p>\n",
       "</div>"
      ],
      "text/plain": [
       "       index  birth_year\n",
       "0          0        2007\n",
       "1          1        2013\n",
       "2          2        2014\n",
       "3          3        2008\n",
       "4          4        2014\n",
       "...      ...         ...\n",
       "29995  29995        2010\n",
       "29996  29996        2010\n",
       "29997  29997        2014\n",
       "29998  29998        2009\n",
       "29999  29999        2012\n",
       "\n",
       "[30000 rows x 2 columns]"
      ]
     },
     "execution_count": 87,
     "metadata": {},
     "output_type": "execute_result"
    }
   ],
   "source": [
    "df['birth_year'] = df['Animal Birth'].dt.year\n",
    "df['birth_year'].reset_index()"
   ]
  },
  {
   "cell_type": "markdown",
   "metadata": {},
   "source": [
    "## Calculate a new column called “age” that shows approximately how old the dog is. How old are dogs on average?"
   ]
  },
  {
   "cell_type": "code",
   "execution_count": 89,
   "metadata": {},
   "outputs": [
    {
     "data": {
      "text/html": [
       "<div>\n",
       "<style scoped>\n",
       "    .dataframe tbody tr th:only-of-type {\n",
       "        vertical-align: middle;\n",
       "    }\n",
       "\n",
       "    .dataframe tbody tr th {\n",
       "        vertical-align: top;\n",
       "    }\n",
       "\n",
       "    .dataframe thead th {\n",
       "        text-align: right;\n",
       "    }\n",
       "</style>\n",
       "<table border=\"1\" class=\"dataframe\">\n",
       "  <thead>\n",
       "    <tr style=\"text-align: right;\">\n",
       "      <th></th>\n",
       "      <th>index</th>\n",
       "      <th>age</th>\n",
       "    </tr>\n",
       "  </thead>\n",
       "  <tbody>\n",
       "    <tr>\n",
       "      <th>0</th>\n",
       "      <td>0</td>\n",
       "      <td>17</td>\n",
       "    </tr>\n",
       "    <tr>\n",
       "      <th>1</th>\n",
       "      <td>1</td>\n",
       "      <td>11</td>\n",
       "    </tr>\n",
       "    <tr>\n",
       "      <th>2</th>\n",
       "      <td>2</td>\n",
       "      <td>10</td>\n",
       "    </tr>\n",
       "    <tr>\n",
       "      <th>3</th>\n",
       "      <td>3</td>\n",
       "      <td>16</td>\n",
       "    </tr>\n",
       "    <tr>\n",
       "      <th>4</th>\n",
       "      <td>4</td>\n",
       "      <td>10</td>\n",
       "    </tr>\n",
       "    <tr>\n",
       "      <th>...</th>\n",
       "      <td>...</td>\n",
       "      <td>...</td>\n",
       "    </tr>\n",
       "    <tr>\n",
       "      <th>29995</th>\n",
       "      <td>29995</td>\n",
       "      <td>14</td>\n",
       "    </tr>\n",
       "    <tr>\n",
       "      <th>29996</th>\n",
       "      <td>29996</td>\n",
       "      <td>14</td>\n",
       "    </tr>\n",
       "    <tr>\n",
       "      <th>29997</th>\n",
       "      <td>29997</td>\n",
       "      <td>10</td>\n",
       "    </tr>\n",
       "    <tr>\n",
       "      <th>29998</th>\n",
       "      <td>29998</td>\n",
       "      <td>15</td>\n",
       "    </tr>\n",
       "    <tr>\n",
       "      <th>29999</th>\n",
       "      <td>29999</td>\n",
       "      <td>12</td>\n",
       "    </tr>\n",
       "  </tbody>\n",
       "</table>\n",
       "<p>30000 rows × 2 columns</p>\n",
       "</div>"
      ],
      "text/plain": [
       "       index  age\n",
       "0          0   17\n",
       "1          1   11\n",
       "2          2   10\n",
       "3          3   16\n",
       "4          4   10\n",
       "...      ...  ...\n",
       "29995  29995   14\n",
       "29996  29996   14\n",
       "29997  29997   10\n",
       "29998  29998   15\n",
       "29999  29999   12\n",
       "\n",
       "[30000 rows x 2 columns]"
      ]
     },
     "execution_count": 89,
     "metadata": {},
     "output_type": "execute_result"
    }
   ],
   "source": [
    "df['age'] = 2024 - df['birth_year']\n",
    "df['age'].reset_index()"
   ]
  },
  {
   "cell_type": "markdown",
   "metadata": {},
   "source": [
    "# Joining data together"
   ]
  },
  {
   "cell_type": "code",
   "execution_count": 136,
   "metadata": {},
   "outputs": [
    {
     "data": {
      "text/html": [
       "<div>\n",
       "<style scoped>\n",
       "    .dataframe tbody tr th:only-of-type {\n",
       "        vertical-align: middle;\n",
       "    }\n",
       "\n",
       "    .dataframe tbody tr th {\n",
       "        vertical-align: top;\n",
       "    }\n",
       "\n",
       "    .dataframe thead th {\n",
       "        text-align: right;\n",
       "    }\n",
       "</style>\n",
       "<table border=\"1\" class=\"dataframe\">\n",
       "  <thead>\n",
       "    <tr style=\"text-align: right;\">\n",
       "      <th></th>\n",
       "      <th>neighborhood</th>\n",
       "      <th>zip</th>\n",
       "      <th>borough</th>\n",
       "      <th>Owner Zip Code</th>\n",
       "      <th>Animal Name</th>\n",
       "      <th>Animal Gender</th>\n",
       "      <th>Primary Breed</th>\n",
       "      <th>Secondary Breed</th>\n",
       "      <th>Animal Dominant Color</th>\n",
       "      <th>Animal Secondary Color</th>\n",
       "      <th>Animal Third Color</th>\n",
       "      <th>Animal Birth</th>\n",
       "      <th>Spayed or Neut</th>\n",
       "      <th>Guard or Trained</th>\n",
       "      <th>Vaccinated</th>\n",
       "      <th>Application Date</th>\n",
       "      <th>License Issued Date</th>\n",
       "      <th>License Expired Date</th>\n",
       "      <th>birth_year</th>\n",
       "      <th>age</th>\n",
       "    </tr>\n",
       "  </thead>\n",
       "  <tbody>\n",
       "    <tr>\n",
       "      <th>0</th>\n",
       "      <td>Central Bronx</td>\n",
       "      <td>10453</td>\n",
       "      <td>Bronx</td>\n",
       "      <td>10453</td>\n",
       "      <td>T-Bone</td>\n",
       "      <td>M</td>\n",
       "      <td>Bulldog</td>\n",
       "      <td>NaN</td>\n",
       "      <td>White</td>\n",
       "      <td>Tan</td>\n",
       "      <td>Apricot</td>\n",
       "      <td>2010-04-01</td>\n",
       "      <td>Yes</td>\n",
       "      <td>No</td>\n",
       "      <td>Yes</td>\n",
       "      <td>2014-11-16 16:48:08.080</td>\n",
       "      <td>2014-11-16</td>\n",
       "      <td>2016-11-16</td>\n",
       "      <td>2010</td>\n",
       "      <td>14</td>\n",
       "    </tr>\n",
       "    <tr>\n",
       "      <th>1</th>\n",
       "      <td>Central Bronx</td>\n",
       "      <td>10453</td>\n",
       "      <td>Bronx</td>\n",
       "      <td>10453</td>\n",
       "      <td>Cici</td>\n",
       "      <td>F</td>\n",
       "      <td>American Pit Bull Mix / Pit Bull Mix</td>\n",
       "      <td>NaN</td>\n",
       "      <td>BROWN</td>\n",
       "      <td>RUST</td>\n",
       "      <td>BLACK</td>\n",
       "      <td>2008-11-01</td>\n",
       "      <td>Yes</td>\n",
       "      <td>No</td>\n",
       "      <td>No</td>\n",
       "      <td>2015-02-06 10:35:12.917</td>\n",
       "      <td>2015-02-06</td>\n",
       "      <td>2017-04-28</td>\n",
       "      <td>2008</td>\n",
       "      <td>16</td>\n",
       "    </tr>\n",
       "    <tr>\n",
       "      <th>2</th>\n",
       "      <td>Central Bronx</td>\n",
       "      <td>10453</td>\n",
       "      <td>Bronx</td>\n",
       "      <td>10453</td>\n",
       "      <td>Blue</td>\n",
       "      <td>M</td>\n",
       "      <td>Basset Hound</td>\n",
       "      <td>NaN</td>\n",
       "      <td>Brown</td>\n",
       "      <td>Tan</td>\n",
       "      <td>Cream</td>\n",
       "      <td>2005-02-01</td>\n",
       "      <td>Yes</td>\n",
       "      <td>No</td>\n",
       "      <td>No</td>\n",
       "      <td>2015-02-10 16:43:24.847</td>\n",
       "      <td>2015-02-10</td>\n",
       "      <td>2017-02-10</td>\n",
       "      <td>2005</td>\n",
       "      <td>19</td>\n",
       "    </tr>\n",
       "    <tr>\n",
       "      <th>3</th>\n",
       "      <td>Central Bronx</td>\n",
       "      <td>10453</td>\n",
       "      <td>Bronx</td>\n",
       "      <td>10453</td>\n",
       "      <td>Boi</td>\n",
       "      <td>M</td>\n",
       "      <td>Yorkshire Terrier</td>\n",
       "      <td>NaN</td>\n",
       "      <td>Black</td>\n",
       "      <td>Gray</td>\n",
       "      <td>Tan</td>\n",
       "      <td>2011-02-01</td>\n",
       "      <td>Yes</td>\n",
       "      <td>No</td>\n",
       "      <td>Yes</td>\n",
       "      <td>2015-02-10 16:43:24.847</td>\n",
       "      <td>2015-02-10</td>\n",
       "      <td>2017-02-10</td>\n",
       "      <td>2011</td>\n",
       "      <td>13</td>\n",
       "    </tr>\n",
       "    <tr>\n",
       "      <th>4</th>\n",
       "      <td>Central Bronx</td>\n",
       "      <td>10453</td>\n",
       "      <td>Bronx</td>\n",
       "      <td>10453</td>\n",
       "      <td>MARSHMELLO</td>\n",
       "      <td>F</td>\n",
       "      <td>Samoyed</td>\n",
       "      <td>NaN</td>\n",
       "      <td>WHITE</td>\n",
       "      <td>NaN</td>\n",
       "      <td>NaN</td>\n",
       "      <td>2004-01-01</td>\n",
       "      <td>Yes</td>\n",
       "      <td>No</td>\n",
       "      <td>Yes</td>\n",
       "      <td>2015-03-27 14:47:53.483</td>\n",
       "      <td>2015-03-27</td>\n",
       "      <td>2017-03-30</td>\n",
       "      <td>2004</td>\n",
       "      <td>20</td>\n",
       "    </tr>\n",
       "    <tr>\n",
       "      <th>...</th>\n",
       "      <td>...</td>\n",
       "      <td>...</td>\n",
       "      <td>...</td>\n",
       "      <td>...</td>\n",
       "      <td>...</td>\n",
       "      <td>...</td>\n",
       "      <td>...</td>\n",
       "      <td>...</td>\n",
       "      <td>...</td>\n",
       "      <td>...</td>\n",
       "      <td>...</td>\n",
       "      <td>...</td>\n",
       "      <td>...</td>\n",
       "      <td>...</td>\n",
       "      <td>...</td>\n",
       "      <td>...</td>\n",
       "      <td>...</td>\n",
       "      <td>...</td>\n",
       "      <td>...</td>\n",
       "      <td>...</td>\n",
       "    </tr>\n",
       "    <tr>\n",
       "      <th>29568</th>\n",
       "      <td>Mid-Island</td>\n",
       "      <td>10314</td>\n",
       "      <td>Staten Island</td>\n",
       "      <td>10314</td>\n",
       "      <td>Juli</td>\n",
       "      <td>F</td>\n",
       "      <td>Greyhound</td>\n",
       "      <td>NaN</td>\n",
       "      <td>WHITE</td>\n",
       "      <td>BLACK</td>\n",
       "      <td>NaN</td>\n",
       "      <td>2005-05-01</td>\n",
       "      <td>Yes</td>\n",
       "      <td>No</td>\n",
       "      <td>Yes</td>\n",
       "      <td>2015-08-21 10:59:20.797</td>\n",
       "      <td>2015-08-21</td>\n",
       "      <td>2016-09-15</td>\n",
       "      <td>2005</td>\n",
       "      <td>19</td>\n",
       "    </tr>\n",
       "    <tr>\n",
       "      <th>29569</th>\n",
       "      <td>Mid-Island</td>\n",
       "      <td>10314</td>\n",
       "      <td>Staten Island</td>\n",
       "      <td>10314</td>\n",
       "      <td>MOLLY</td>\n",
       "      <td>F</td>\n",
       "      <td>Unknown</td>\n",
       "      <td>CAVACHON</td>\n",
       "      <td>BLACK</td>\n",
       "      <td>WHITE</td>\n",
       "      <td>NaN</td>\n",
       "      <td>2007-01-01</td>\n",
       "      <td>Yes</td>\n",
       "      <td>No</td>\n",
       "      <td>Yes</td>\n",
       "      <td>2015-08-21 14:48:00.620</td>\n",
       "      <td>2015-08-21</td>\n",
       "      <td>2016-08-30</td>\n",
       "      <td>2007</td>\n",
       "      <td>17</td>\n",
       "    </tr>\n",
       "    <tr>\n",
       "      <th>29570</th>\n",
       "      <td>Mid-Island</td>\n",
       "      <td>10314</td>\n",
       "      <td>Staten Island</td>\n",
       "      <td>10314</td>\n",
       "      <td>No Name</td>\n",
       "      <td>F</td>\n",
       "      <td>Shih Tzu</td>\n",
       "      <td>NaN</td>\n",
       "      <td>Gold</td>\n",
       "      <td>White</td>\n",
       "      <td>NaN</td>\n",
       "      <td>2015-04-01</td>\n",
       "      <td>No</td>\n",
       "      <td>No</td>\n",
       "      <td>No</td>\n",
       "      <td>2015-08-22 14:21:51.767</td>\n",
       "      <td>2015-06-28</td>\n",
       "      <td>2016-06-28</td>\n",
       "      <td>2015</td>\n",
       "      <td>9</td>\n",
       "    </tr>\n",
       "    <tr>\n",
       "      <th>29571</th>\n",
       "      <td>Mid-Island</td>\n",
       "      <td>10314</td>\n",
       "      <td>Staten Island</td>\n",
       "      <td>10314</td>\n",
       "      <td>charley</td>\n",
       "      <td>M</td>\n",
       "      <td>Shih Tzu</td>\n",
       "      <td>NaN</td>\n",
       "      <td>Gold</td>\n",
       "      <td>White</td>\n",
       "      <td>NaN</td>\n",
       "      <td>2006-06-01</td>\n",
       "      <td>Yes</td>\n",
       "      <td>No</td>\n",
       "      <td>No</td>\n",
       "      <td>2015-08-22 16:08:14.987</td>\n",
       "      <td>2015-08-22</td>\n",
       "      <td>2016-08-22</td>\n",
       "      <td>2006</td>\n",
       "      <td>18</td>\n",
       "    </tr>\n",
       "    <tr>\n",
       "      <th>29572</th>\n",
       "      <td>Mid-Island</td>\n",
       "      <td>10314</td>\n",
       "      <td>Staten Island</td>\n",
       "      <td>10314</td>\n",
       "      <td>Kane</td>\n",
       "      <td>M</td>\n",
       "      <td>Rottweiler</td>\n",
       "      <td>NaN</td>\n",
       "      <td>Black</td>\n",
       "      <td>Tan</td>\n",
       "      <td>NaN</td>\n",
       "      <td>2014-04-01</td>\n",
       "      <td>No</td>\n",
       "      <td>No</td>\n",
       "      <td>Yes</td>\n",
       "      <td>2015-08-22 17:43:57.053</td>\n",
       "      <td>2015-08-22</td>\n",
       "      <td>2016-08-22</td>\n",
       "      <td>2014</td>\n",
       "      <td>10</td>\n",
       "    </tr>\n",
       "  </tbody>\n",
       "</table>\n",
       "<p>29573 rows × 20 columns</p>\n",
       "</div>"
      ],
      "text/plain": [
       "        neighborhood    zip        borough  Owner Zip Code Animal Name  \\\n",
       "0      Central Bronx  10453          Bronx           10453      T-Bone   \n",
       "1      Central Bronx  10453          Bronx           10453        Cici   \n",
       "2      Central Bronx  10453          Bronx           10453        Blue   \n",
       "3      Central Bronx  10453          Bronx           10453         Boi   \n",
       "4      Central Bronx  10453          Bronx           10453  MARSHMELLO   \n",
       "...              ...    ...            ...             ...         ...   \n",
       "29568     Mid-Island  10314  Staten Island           10314        Juli   \n",
       "29569     Mid-Island  10314  Staten Island           10314  MOLLY        \n",
       "29570     Mid-Island  10314  Staten Island           10314     No Name   \n",
       "29571     Mid-Island  10314  Staten Island           10314     charley   \n",
       "29572     Mid-Island  10314  Staten Island           10314        Kane   \n",
       "\n",
       "      Animal Gender                         Primary Breed  Secondary Breed  \\\n",
       "0                 M                               Bulldog              NaN   \n",
       "1                 F  American Pit Bull Mix / Pit Bull Mix              NaN   \n",
       "2                 M                          Basset Hound              NaN   \n",
       "3                 M                     Yorkshire Terrier              NaN   \n",
       "4                 F                               Samoyed              NaN   \n",
       "...             ...                                   ...              ...   \n",
       "29568             F                             Greyhound              NaN   \n",
       "29569             F                               Unknown  CAVACHON          \n",
       "29570             F                              Shih Tzu              NaN   \n",
       "29571             M                              Shih Tzu              NaN   \n",
       "29572             M                            Rottweiler              NaN   \n",
       "\n",
       "      Animal Dominant Color Animal Secondary Color Animal Third Color  \\\n",
       "0                     White                    Tan            Apricot   \n",
       "1                     BROWN                   RUST              BLACK   \n",
       "2                     Brown                    Tan              Cream   \n",
       "3                     Black                   Gray                Tan   \n",
       "4                     WHITE                    NaN                NaN   \n",
       "...                     ...                    ...                ...   \n",
       "29568                 WHITE                  BLACK                NaN   \n",
       "29569                 BLACK                  WHITE                NaN   \n",
       "29570                  Gold                  White                NaN   \n",
       "29571                  Gold                  White                NaN   \n",
       "29572                 Black                    Tan                NaN   \n",
       "\n",
       "      Animal Birth Spayed or Neut Guard or Trained Vaccinated  \\\n",
       "0       2010-04-01            Yes               No        Yes   \n",
       "1       2008-11-01            Yes               No         No   \n",
       "2       2005-02-01            Yes               No         No   \n",
       "3       2011-02-01            Yes               No        Yes   \n",
       "4       2004-01-01            Yes               No        Yes   \n",
       "...            ...            ...              ...        ...   \n",
       "29568   2005-05-01            Yes               No        Yes   \n",
       "29569   2007-01-01            Yes               No        Yes   \n",
       "29570   2015-04-01             No               No         No   \n",
       "29571   2006-06-01            Yes               No         No   \n",
       "29572   2014-04-01             No               No        Yes   \n",
       "\n",
       "             Application Date License Issued Date License Expired Date  \\\n",
       "0     2014-11-16 16:48:08.080          2014-11-16           2016-11-16   \n",
       "1     2015-02-06 10:35:12.917          2015-02-06           2017-04-28   \n",
       "2     2015-02-10 16:43:24.847          2015-02-10           2017-02-10   \n",
       "3     2015-02-10 16:43:24.847          2015-02-10           2017-02-10   \n",
       "4     2015-03-27 14:47:53.483          2015-03-27           2017-03-30   \n",
       "...                       ...                 ...                  ...   \n",
       "29568 2015-08-21 10:59:20.797          2015-08-21           2016-09-15   \n",
       "29569 2015-08-21 14:48:00.620          2015-08-21           2016-08-30   \n",
       "29570 2015-08-22 14:21:51.767          2015-06-28           2016-06-28   \n",
       "29571 2015-08-22 16:08:14.987          2015-08-22           2016-08-22   \n",
       "29572 2015-08-22 17:43:57.053          2015-08-22           2016-08-22   \n",
       "\n",
       "       birth_year  age  \n",
       "0            2010   14  \n",
       "1            2008   16  \n",
       "2            2005   19  \n",
       "3            2011   13  \n",
       "4            2004   20  \n",
       "...           ...  ...  \n",
       "29568        2005   19  \n",
       "29569        2007   17  \n",
       "29570        2015    9  \n",
       "29571        2006   18  \n",
       "29572        2014   10  \n",
       "\n",
       "[29573 rows x 20 columns]"
      ]
     },
     "execution_count": 136,
     "metadata": {},
     "output_type": "execute_result"
    }
   ],
   "source": [
    "neighborhoods_df = pd.read_csv(\"zipcodes-neighborhoods.csv\")\n",
    "neighborhoods_df.head()\n",
    "merged_df = neighborhoods_df.merge(df, left_on = 'zip', right_on='Owner Zip Code')\n",
    "merged_df\n",
    "\n",
    "# merged = pd.read_csv(zipcodes-neighborhoods.csv).merge(df, left_on='owner zip code', right_on='zip')\n"
   ]
  },
  {
   "cell_type": "markdown",
   "metadata": {},
   "source": [
    "## Which neighborhood does each dog live in?\n",
    "\n",
    "You also have a (terrible) list of NYC neighborhoods in `zipcodes-neighborhoods.csv`. Join these two datasets together, so we know what neighborhood each dog lives in. **Be sure to not read it in as `df`, or else you'll overwrite your dogs dataframe.**\n",
    "\n",
    "Here's an example of how you can merge two dataframes:\n",
    "\n",
    "```python\n",
    "merged = prisons_df.merge(states_df, left_on='state', right_on='name')\n",
    "```\n",
    "\n",
    "In the example above, `prisons_df` has a column called `state` that matches with the `name` column of `states_df`. The columns of `states_df` are then added to `prisons_df` and returned as a new dataframe called `merged`.\n",
    "\n",
    "> **Rows without a match get discarded because it is an [inner join](https://pandas.pydata.org/docs/reference/api/pandas.DataFrame.merge.html).** I think left joins are probably the most common (keep rows from the \"left\" df even if they don't have a match in the right. For example, by default a prison with the state of `PUERTO RICO` would be dropped if PR wasn't in `states_df`, but if you changed it to `how='left'` it would be preserved, but the additional columns would just be `NaN`."
   ]
  },
  {
   "cell_type": "code",
   "execution_count": 100,
   "metadata": {},
   "outputs": [
    {
     "data": {
      "text/plain": [
       "neighborhood\n",
       "Upper West Side                  2000\n",
       "Upper East Side                  1851\n",
       "Northwest Brooklyn               1716\n",
       "Chelsea and Clinton              1533\n",
       "South Shore                      1375\n",
       "Lower East Side                  1149\n",
       "West Queens                      1141\n",
       "Gramercy Park and Murray Hill    1002\n",
       "West Central Queens               984\n",
       "Southeast Bronx                   925\n",
       "Northwest Queens                  850\n",
       "Southern Brooklyn                 839\n",
       "Southwest Brooklyn                811\n",
       "North Queens                      766\n",
       "Inwood and Washington Heights     752\n",
       "Greenwich Village and Soho        740\n",
       "Central Brooklyn                  715\n",
       "Southwest Queens                  683\n",
       "Borough Park                      639\n",
       "Bushwick and Williamsburg         613\n",
       "Stapleton and St. George          562\n",
       "Greenpoint                        538\n",
       "Central Harlem                    534\n",
       "Canarsie and Flatlands            531\n",
       "Mid-Island                        486\n",
       "East Harlem                       482\n",
       "Flatbush                          457\n",
       "Lower Manhattan                   435\n",
       "Kingsbridge and Riverdale         395\n",
       "Jamaica                           383\n",
       "Northeast Queens                  371\n",
       "Southeast Queens                  365\n",
       "Bronx Park and Fordham            356\n",
       "Sunset Park                       316\n",
       "Central Queens                    308\n",
       "Port Richmond                     304\n",
       "Rockaways                         303\n",
       "East New York and New Lots        291\n",
       "Northeast Bronx                   279\n",
       "High Bridge and Morrisania        277\n",
       "Central Bronx                     261\n",
       "Hunts Point and Mott Haven        255\n",
       "Name: count, dtype: int64"
      ]
     },
     "execution_count": 100,
     "metadata": {},
     "output_type": "execute_result"
    }
   ],
   "source": [
    "merged_df['neighborhood'].value_counts()"
   ]
  },
  {
   "cell_type": "markdown",
   "metadata": {},
   "source": [
    "## What is the most popular dog name in all parts of the Bronx? How about Brooklyn? The Upper East Side?"
   ]
  },
  {
   "cell_type": "code",
   "execution_count": 118,
   "metadata": {},
   "outputs": [
    {
     "name": "stdout",
     "output_type": "stream",
     "text": [
      "Animal Name\n",
      "Bella         15\n",
      "Rocky         15\n",
      "Max           14\n",
      "Buddy         12\n",
      "Lucky         12\n",
      "              ..\n",
      "Marley         1\n",
      "CODY B.R.      1\n",
      "DOLLY          1\n",
      "SARA           1\n",
      "unknown        1\n",
      "Name: count, Length: 1407, dtype: int64\n",
      "The most popular dog name in all of Brooklyn is Bella.\n"
     ]
    }
   ],
   "source": [
    "bronx_dogs = merged_df[merged_df['neighborhood'].str.contains('Bronx')]\n",
    "popular_bronx_dog_names = bronx_dogs['Animal Name'].value_counts()\n",
    "popular_bronx_dog_names\n",
    "\n",
    "print(popular_bronx_dog_names)\n",
    "\n",
    "print(\"The most popular dog name in all of Brooklyn is Bella.\")\n"
   ]
  },
  {
   "cell_type": "code",
   "execution_count": 119,
   "metadata": {},
   "outputs": [
    {
     "name": "stdout",
     "output_type": "stream",
     "text": [
      "Animal Name\n",
      "Unknown      39\n",
      "Max          28\n",
      "Charlie      27\n",
      "unknown      25\n",
      "UNKNOWN      23\n",
      "             ..\n",
      "ISABEL        1\n",
      "violet        1\n",
      "Trips         1\n",
      "ZEUS          1\n",
      "Charlotte     1\n",
      "Name: count, Length: 2750, dtype: int64\n",
      "The most popular dog name in all of Brooklyn is Max.\n"
     ]
    }
   ],
   "source": [
    "brooklyn_dogs = merged_df[merged_df['neighborhood'].str.contains('Brooklyn')]\n",
    "popular_brooklyn_dog_names = brooklyn_dogs['Animal Name'].value_counts()\n",
    "popular_brooklyn_dog_names\n",
    "\n",
    "print(popular_brooklyn_dog_names)\n",
    "\n",
    "print(\"The most popular dog name in all of Brooklyn is Max.\")"
   ]
  },
  {
   "cell_type": "code",
   "execution_count": 121,
   "metadata": {},
   "outputs": [
    {
     "name": "stdout",
     "output_type": "stream",
     "text": [
      "Animal Name\n",
      "Charlie       19\n",
      "Bella         12\n",
      "NO NAME       11\n",
      "Lucy          10\n",
      "Lola          10\n",
      "              ..\n",
      "Lady Luck      1\n",
      "NANCY          1\n",
      "Dashel         1\n",
      "Brutus         1\n",
      "COLBY          1\n",
      "Name: count, Length: 1383, dtype: int64\n",
      "The most popular dog name in all of UES is Charlie.\n"
     ]
    }
   ],
   "source": [
    "UES_dogs = merged_df[merged_df['neighborhood'].str.contains('Upper East Side')]\n",
    "popular_UES_dog_names = UES_dogs['Animal Name'].value_counts()\n",
    "popular_UES_dog_names\n",
    "\n",
    "print(popular_UES_dog_names)\n",
    "\n",
    "print(\"The most popular dog name in all of UES is Charlie.\")"
   ]
  },
  {
   "cell_type": "markdown",
   "metadata": {},
   "source": [
    "## What is the most common dog breed in each of the neighborhoods of NYC?"
   ]
  },
  {
   "cell_type": "code",
   "execution_count": 131,
   "metadata": {},
   "outputs": [
    {
     "data": {
      "text/plain": [
       "neighborhood  Primary Breed              \n",
       "Borough Park  Unknown                        108\n",
       "              Yorkshire Terrier               49\n",
       "              Maltese                         34\n",
       "              Shih Tzu                        34\n",
       "              Chihuahua                       32\n",
       "                                            ... \n",
       "West Queens   Soft Coated Wheaten Terrier      1\n",
       "              Tibetan Spaniel                  1\n",
       "              Toy Fox Terrier                  1\n",
       "              Weimaraner                       1\n",
       "              Wire Fox Terrier                 1\n",
       "Name: count, Length: 4029, dtype: int64"
      ]
     },
     "execution_count": 131,
     "metadata": {},
     "output_type": "execute_result"
    }
   ],
   "source": [
    "most_common_breeds = merged_df.groupby('neighborhood')['Primary Breed'].value_counts()\n",
    "most_common_breeds\n"
   ]
  },
  {
   "cell_type": "markdown",
   "metadata": {},
   "source": [
    "## Make a new column called monochrome that is True for any animal that only has black, white or grey as one of its colors. How many animals are monochrome?\n",
    "\n",
    "Be conscious of case-sensitivity! `WHITE` and `white` aren't the same, so you might need to standardize first.\n",
    "\n",
    "Using `.isin` is going to be very helpful."
   ]
  },
  {
   "cell_type": "code",
   "execution_count": 157,
   "metadata": {},
   "outputs": [
    {
     "name": "stdout",
     "output_type": "stream",
     "text": [
      "Number of monochrome animals: 404\n"
     ]
    }
   ],
   "source": [
    "monochrome_colors = {'black', 'white', 'grey', 'gray'}\n",
    "merged_df['Animal Dominant Color'] = merged_df['Animal Dominant Color'].str.lower()\n",
    "merged_df['Animal Secondary Color'] = merged_df['Animal Secondary Color'].str.lower()\n",
    "merged_df['Animal Third Color'] = merged_df['Animal Third Color'].str.lower()\n",
    "dominant_is_mono = merged_df['Animal Dominant Color'].isin(monochrome_colors)\n",
    "secondary_is_mono = merged_df['Animal Secondary Color'].isin(monochrome_colors)\n",
    "third_is_mono = merged_df['Animal Third Color'].isin(monochrome_colors)\n",
    "merged_df['monochrome'] = merged_df[['Animal Dominant Color', 'Animal Secondary Color', 'Animal Third Color']].isin(monochrome_colors).all(axis=1)\n",
    "monochrome_count = merged_df['monochrome'].sum()\n",
    "monochrome_count\n",
    "\n",
    "print(f\"Number of monochrome animals: {monochrome_count}\")\n",
    "\n"
   ]
  },
  {
   "cell_type": "markdown",
   "metadata": {},
   "source": [
    "## How many dogs are in each borough? Plot it in a graph."
   ]
  },
  {
   "cell_type": "code",
   "execution_count": 141,
   "metadata": {},
   "outputs": [
    {
     "data": {
      "text/plain": [
       "<Axes: ylabel='borough'>"
      ]
     },
     "execution_count": 141,
     "metadata": {},
     "output_type": "execute_result"
    },
    {
     "data": {
      "image/png": "[encoded data removed]",
      "text/plain": [
       "<Figure size 640x480 with 1 Axes>"
      ]
     },
     "metadata": {},
     "output_type": "display_data"
    }
   ],
   "source": [
    "dog_counts = merged_df['borough'].value_counts()\n",
    "dog_counts.sort_values().plot(kind= 'barh')\n"
   ]
  },
  {
   "cell_type": "markdown",
   "metadata": {},
   "source": [
    "## Which borough has the highest number of dogs per-capita?\n",
    "\n",
    "You’ll need to merge in `population_boro.csv`"
   ]
  },
  {
   "cell_type": "code",
   "execution_count": 162,
   "metadata": {},
   "outputs": [
    {
     "data": {
      "text/plain": [
       "borough\n",
       "Bronx            0.001888\n",
       "Brooklyn         0.002832\n",
       "Manhattan        0.006371\n",
       "Queens           0.002631\n",
       "Staten Island    0.005746\n",
       "dtype: float64"
      ]
     },
     "execution_count": 162,
     "metadata": {},
     "output_type": "execute_result"
    }
   ],
   "source": [
    "population_df = pd.read_csv(\"boro_population.csv\")\n",
    "population_df.head()\n",
    "double_merged_df = population_df.merge(merged_df, left_on = 'borough', right_on='borough')\n",
    "dogs_per_borough = double_merged_df['borough'].value_counts()\n",
    "population_per_borough = double_merged_df[['borough', 'population']].drop_duplicates().set_index('borough')['population']\n",
    "dogs_per_capita = dogs_per_borough / population_per_borough\n",
    "dogs_per_capita\n"
   ]
  },
  {
   "cell_type": "code",
   "execution_count": null,
   "metadata": {},
   "outputs": [],
   "source": []
  },
  {
   "cell_type": "markdown",
   "metadata": {},
   "source": [
    "## Make a bar graph of the top 5 breeds in each borough.\n",
    "\n",
    "How do you groupby and then only take the top X number? This is very crazy, so ask in Slack, or a TA, or our buddy ChatGPT."
   ]
  },
  {
   "cell_type": "code",
   "execution_count": 161,
   "metadata": {},
   "outputs": [
    {
     "name": "stderr",
     "output_type": "stream",
     "text": [
      "/var/folders/2h/mxr2292918v68144kbqd531r0000gn/T/ipykernel_79605/3835714966.py:4: DeprecationWarning: DataFrameGroupBy.apply operated on the grouping columns. This behavior is deprecated, and in a future version of pandas the grouping columns will be excluded from the operation. Either pass `include_groups=False` to exclude the groupings or explicitly select the grouping columns after groupby to silence this warning.\n",
      "  top_breeds_by_boro = breed_by_boro.groupby('borough').apply(lambda x: x.nlargest(5, 'count')).reset_index(drop=True)\n"
     ]
    },
    {
     "data": {
      "image/png": "[encoded data removed]",
      "text/plain": [
       "<Figure size 640x480 with 1 Axes>"
      ]
     },
     "metadata": {},
     "output_type": "display_data"
    }
   ],
   "source": [
    "import matplotlib.pyplot as plt\n",
    "breed_by_boro = double_merged_df.groupby('borough')['Primary Breed'].value_counts()\n",
    "breed_by_boro = breed_by_boro.reset_index(name='count')\n",
    "top_breeds_by_boro = breed_by_boro.groupby('borough').apply(lambda x: x.nlargest(5, 'count')).reset_index(drop=True)\n",
    "for borough in top_breeds_by_boro['borough'].unique():\n",
    "    subset = top_breeds_by_boro[top_breeds_by_boro['borough'] == borough]\n",
    "    plt.bar(subset['Primary Breed'], subset['count'], label=borough)\n",
    "\n",
    "plt.title('Top 5 Breeds in Each Borough')\n",
    "plt.xlabel('Primary Breed')\n",
    "plt.ylabel('Count')\n",
    "plt.legend(title='Borough')\n",
    "plt.xticks(rotation=45)\n",
    "plt.tight_layout()\n",
    "plt.show()"
   ]
  },
  {
   "cell_type": "code",
   "execution_count": null,
   "metadata": {},
   "outputs": [],
   "source": []
  }
 ],
 "metadata": {
  "kernelspec": {
   "display_name": "Python 3 (ipykernel)",
   "language": "python",
   "name": "python3"
  },
  "language_info": {
   "codemirror_mode": {
    "name": "ipython",
    "version": 3
   },
   "file_extension": ".py",
   "mimetype": "text/x-python",
   "name": "python",
   "nbconvert_exporter": "python",
   "pygments_lexer": "ipython3",
   "version": "3.12.7"
  }
 },
 "nbformat": 4,
 "nbformat_minor": 4
}
